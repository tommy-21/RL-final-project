{
 "cells": [
  {
   "cell_type": "code",
   "execution_count": 6,
   "metadata": {},
   "outputs": [
    {
     "ename": "ImportError",
     "evalue": "cannot import name 'overall' from 'Simulations' (c:\\Users\\gorse\\OneDrive\\Documents\\ensai\\troisieme\\reinforcement_L\\travail_projet_Vauto\\RL-final-project\\Simulations.py)",
     "output_type": "error",
     "traceback": [
      "\u001b[1;31m---------------------------------------------------------------------------\u001b[0m",
      "\u001b[1;31mImportError\u001b[0m                               Traceback (most recent call last)",
      "Cell \u001b[1;32mIn[6], line 1\u001b[0m\n\u001b[1;32m----> 1\u001b[0m \u001b[38;5;28;01mfrom\u001b[39;00m \u001b[38;5;21;01mSimulations\u001b[39;00m \u001b[38;5;28;01mimport\u001b[39;00m overall\n",
      "\u001b[1;31mImportError\u001b[0m: cannot import name 'overall' from 'Simulations' (c:\\Users\\gorse\\OneDrive\\Documents\\ensai\\troisieme\\reinforcement_L\\travail_projet_Vauto\\RL-final-project\\Simulations.py)"
     ]
    }
   ],
   "source": [
    "from Simulations import overall"
   ]
  },
  {
   "cell_type": "code",
   "execution_count": 5,
   "metadata": {},
   "outputs": [
    {
     "ename": "NameError",
     "evalue": "name 'overall' is not defined",
     "output_type": "error",
     "traceback": [
      "\u001b[1;31m---------------------------------------------------------------------------\u001b[0m",
      "\u001b[1;31mNameError\u001b[0m                                 Traceback (most recent call last)",
      "Cell \u001b[1;32mIn[5], line 1\u001b[0m\n\u001b[1;32m----> 1\u001b[0m R\u001b[38;5;241m=\u001b[39m\u001b[43moverall\u001b[49m()\n",
      "\u001b[1;31mNameError\u001b[0m: name 'overall' is not defined"
     ]
    }
   ],
   "source": [
    "R=overall()"
   ]
  }
 ],
 "metadata": {
  "kernelspec": {
   "display_name": "Python 3",
   "language": "python",
   "name": "python3"
  },
  "language_info": {
   "codemirror_mode": {
    "name": "ipython",
    "version": 3
   },
   "file_extension": ".py",
   "mimetype": "text/x-python",
   "name": "python",
   "nbconvert_exporter": "python",
   "pygments_lexer": "ipython3",
   "version": "3.9.13"
  }
 },
 "nbformat": 4,
 "nbformat_minor": 2
}
