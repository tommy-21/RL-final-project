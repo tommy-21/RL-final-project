{
 "cells": [
  {
   "cell_type": "code",
   "execution_count": null,
   "metadata": {},
   "outputs": [],
   "source": [
    "import numpy as np\n",
    "import pandas as pd\n",
    "def fonction_g_discrete(choix_angle,v):\n",
    "    if v==0:\n",
    "        print(\"ici\")\n",
    "        x=0\n",
    "        y=0\n",
    "    else: \n",
    "        if choix_angle==1:\n",
    "            x=1\n",
    "            y=0\n",
    "        if choix_angle==2:\n",
    "            x=-1\n",
    "            y=0\n",
    "        if choix_angle==3:\n",
    "            x=0\n",
    "            y=1\n",
    "        if choix_angle==4:\n",
    "            x=0\n",
    "            y=-1\n",
    "    return([x,y])\n",
    "\n"
   ]
  },
  {
   "cell_type": "code",
   "execution_count": null,
   "metadata": {},
   "outputs": [],
   "source": [
    "import random\n",
    "def overall():\n",
    "    xcible=5\n",
    "    ycible=5\n",
    "    lim_x=[0,19]\n",
    "    lim_y=[0,19]\n",
    "    destination=[xcible,ycible]\n",
    "    Liste_realisations=[]\n",
    "    table_cout=np.random.multivariate_normal(size=20,mean=[-5]*20,cov=np.eye(20))\n",
    "    goal_x=5\n",
    "    goal_y=5\n",
    "    for J in range(100):\n",
    "        T=np.random.choice([20,50,100])\n",
    "        Table_nom=[J]*T\n",
    "        Recompenses=[]\n",
    "        Actions=[]\n",
    "        Nouvel_etat=[]\n",
    "        Positions_t=[]\n",
    "        x_si=np.random.choice(range(20))\n",
    "        y_si=np.random.choice(range(20))\n",
    "        situation_initiale=(x_si,y_si)\n",
    "        for j in range(T):\n",
    "            vitesse=np.random.choice([0,1,2,3])\n",
    "            if situation_initiale[0]==goal_x and situation_initiale[1]==goal_y:\n",
    "                recompense=1\n",
    "            else:\n",
    "                recompense=-1\n",
    "            if vitesse!=0:\n",
    "                choix_angle=random.choice([1,2,3,4])\n",
    "                changement_pos=fonction_g_discrete(choix_angle=choix_angle,v=vitesse)\n",
    "                situation_nouvelle=np.add(changement_pos,np.array(situation_initiale))\n",
    "                if situation_nouvelle[0]<lim_x[0] or situation_nouvelle[0]>lim_x[1]:\n",
    "                    recompense=+-20*vitesse\n",
    "                    situation_nouvelle=situation_initiale\n",
    "                elif situation_nouvelle[1]<lim_y[0] or situation_nouvelle[1]>lim_y[1]:\n",
    "                    recompense=+-20*vitesse\n",
    "                    situation_nouvelle=situation_initiale\n",
    "                elif situation_nouvelle[0]==goal_x and situation_nouvelle[1]==goal_y:\n",
    "                    recompense=1\n",
    "                else:\n",
    "                    recompense=+table_cout[situation_nouvelle[0],situation_nouvelle[1]]/vitesse\n",
    "            else:\n",
    "                situation_nouvelle=situation_initiale\n",
    "                choix_angle=random.choice([1,2,3,4])\n",
    "            Recompenses.append(recompense)\n",
    "            Actions.append((vitesse,choix_angle))\n",
    "            Positions_t.append(tuple(situation_initiale))\n",
    "            Nouvel_etat.append(tuple(situation_nouvelle))\n",
    "            situation_initiale=tuple(situation_nouvelle)\n",
    "        dico=pd.DataFrame({\"recompense\":Recompenses,\"actions\":Actions,\"etat_t\":Positions_t,\"etat_suivant\":Nouvel_etat,\"Indice_simul\":Table_nom})\n",
    "        Liste_realisations.append(dico)\n",
    "    return(pd.concat(Liste_realisations))"
   ]
  },
  {
   "cell_type": "code",
   "execution_count": null,
   "metadata": {},
   "outputs": [],
   "source": [
    "np.random.seed(133)\n",
    "R=overall()"
   ]
  },
  {
   "cell_type": "code",
   "execution_count": null,
   "metadata": {},
   "outputs": [],
   "source": [
    "R = R.rename(columns={'recompense': 'r_t', 'actions': 'a_t',\"Indice_simul\":\"id_simulation\",\"etat_t\":\"s_t\",\"etat_suivant\":\"s_t_p_1\"})\n",
    "R"
   ]
  },
  {
   "cell_type": "code",
   "execution_count": null,
   "metadata": {},
   "outputs": [],
   "source": [
    "R.to_csv('Resultats.csv', index=False)"
   ]
  }
 ],
 "metadata": {
  "kernelspec": {
   "display_name": "Python 3",
   "language": "python",
   "name": "python3"
  },
  "language_info": {
   "name": "python",
   "version": "3.9.13"
  }
 },
 "nbformat": 4,
 "nbformat_minor": 2
}
