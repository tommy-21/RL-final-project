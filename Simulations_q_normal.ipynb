{
 "cells": [
  {
   "cell_type": "markdown",
   "metadata": {},
   "source": [
    "Fonction deplacement. "
   ]
  },
  {
   "cell_type": "code",
   "execution_count": 1,
   "metadata": {},
   "outputs": [],
   "source": [
    "import numpy as np\n",
    "import pandas as pd\n",
    "def fonction_g_discrete(choix_angle,v):\n",
    "    if v==0:\n",
    "        print(\"ici\")\n",
    "        x=0\n",
    "        y=0\n",
    "    else: \n",
    "        if choix_angle==1:\n",
    "            x=1\n",
    "            y=0\n",
    "        if choix_angle==2:\n",
    "            x=-1\n",
    "            y=0\n",
    "        if choix_angle==3:\n",
    "            x=0\n",
    "            y=1\n",
    "        if choix_angle==4:\n",
    "            x=0\n",
    "            y=-1\n",
    "    return([x,y])\n",
    "\n"
   ]
  },
  {
   "cell_type": "markdown",
   "metadata": {},
   "source": [
    "Fonction simulations. "
   ]
  },
  {
   "cell_type": "code",
   "execution_count": 9,
   "metadata": {},
   "outputs": [],
   "source": [
    "import random\n",
    "def overall():\n",
    "    xcible=5\n",
    "    ycible=5\n",
    "    lim_x=[0,19]\n",
    "    lim_y=[0,19]\n",
    "    destination=[xcible,ycible]\n",
    "    Liste_realisations=[]\n",
    "    table_cout=np.random.multivariate_normal(size=20,mean=[-5]*20,cov=np.eye(20))\n",
    "    goal_x=5\n",
    "    goal_y=5\n",
    "    for J in range(10):\n",
    "        T=np.random.choice([20,50,100])\n",
    "        Table_nom=[J]*T\n",
    "        Recompenses=[]\n",
    "        Actions=[]\n",
    "        Nouvel_etat=[]\n",
    "        Positions_t=[]\n",
    "        x_si=np.random.choice(range(20))\n",
    "        y_si=np.random.choice(range(20))\n",
    "        situation_initiale=(x_si,y_si)\n",
    "        for j in range(T):\n",
    "            vitesse=np.random.choice([0,1,2,3])\n",
    "            if situation_initiale[0]==goal_x and situation_initiale[1]==goal_y:\n",
    "                recompense=1\n",
    "            else:\n",
    "                recompense=-1\n",
    "            if vitesse!=0:\n",
    "                choix_angle=random.choice([1,2,3,4])\n",
    "                changement_pos=fonction_g_discrete(choix_angle=choix_angle,v=vitesse)\n",
    "                situation_nouvelle=np.add(changement_pos,np.array(situation_initiale))\n",
    "                if situation_nouvelle[0]<lim_x[0] or situation_nouvelle[0]>lim_x[1]:\n",
    "                    recompense=+-20*vitesse\n",
    "                    situation_nouvelle=situation_initiale\n",
    "                elif situation_nouvelle[1]<lim_y[0] or situation_nouvelle[1]>lim_y[1]:\n",
    "                    recompense=+-20*vitesse\n",
    "                    situation_nouvelle=situation_initiale\n",
    "                elif situation_nouvelle[0]==goal_x and situation_nouvelle[1]==goal_y:\n",
    "                    recompense=1\n",
    "                else:\n",
    "                    recompense=+table_cout[situation_nouvelle[0],situation_nouvelle[1]]/vitesse\n",
    "            else:\n",
    "                situation_nouvelle=situation_initiale\n",
    "                choix_angle=random.choice([1,2,3,4])\n",
    "            Recompenses.append(recompense)\n",
    "            Actions.append((vitesse,choix_angle))\n",
    "            Positions_t.append(tuple(situation_initiale))\n",
    "            Nouvel_etat.append(tuple(situation_nouvelle))\n",
    "            situation_initiale=tuple(situation_nouvelle)\n",
    "        dico=pd.DataFrame({\"recompense\":Recompenses,\"actions\":Actions,\"etat_t\":Positions_t,\"etat_suivant\":Nouvel_etat,\"Indice_simul\":Table_nom})\n",
    "        Liste_realisations.append(dico)\n",
    "    return(pd.concat(Liste_realisations))"
   ]
  },
  {
   "cell_type": "code",
   "execution_count": 10,
   "metadata": {},
   "outputs": [],
   "source": [
    "np.random.seed(133)\n",
    "R=overall()"
   ]
  },
  {
   "cell_type": "code",
   "execution_count": 11,
   "metadata": {},
   "outputs": [
    {
     "data": {
      "text/html": [
       "<div>\n",
       "<style scoped>\n",
       "    .dataframe tbody tr th:only-of-type {\n",
       "        vertical-align: middle;\n",
       "    }\n",
       "\n",
       "    .dataframe tbody tr th {\n",
       "        vertical-align: top;\n",
       "    }\n",
       "\n",
       "    .dataframe thead th {\n",
       "        text-align: right;\n",
       "    }\n",
       "</style>\n",
       "<table border=\"1\" class=\"dataframe\">\n",
       "  <thead>\n",
       "    <tr style=\"text-align: right;\">\n",
       "      <th></th>\n",
       "      <th>r_t</th>\n",
       "      <th>a_t</th>\n",
       "      <th>s_t</th>\n",
       "      <th>s_t_p_1</th>\n",
       "      <th>id_simulation</th>\n",
       "    </tr>\n",
       "  </thead>\n",
       "  <tbody>\n",
       "    <tr>\n",
       "      <th>0</th>\n",
       "      <td>-1.619943</td>\n",
       "      <td>(3, 3)</td>\n",
       "      <td>(1, 1)</td>\n",
       "      <td>(1, 2)</td>\n",
       "      <td>0</td>\n",
       "    </tr>\n",
       "    <tr>\n",
       "      <th>1</th>\n",
       "      <td>-2.694863</td>\n",
       "      <td>(2, 4)</td>\n",
       "      <td>(1, 2)</td>\n",
       "      <td>(1, 1)</td>\n",
       "      <td>0</td>\n",
       "    </tr>\n",
       "    <tr>\n",
       "      <th>2</th>\n",
       "      <td>-4.666112</td>\n",
       "      <td>(1, 1)</td>\n",
       "      <td>(1, 1)</td>\n",
       "      <td>(2, 1)</td>\n",
       "      <td>0</td>\n",
       "    </tr>\n",
       "    <tr>\n",
       "      <th>3</th>\n",
       "      <td>-6.985433</td>\n",
       "      <td>(1, 3)</td>\n",
       "      <td>(2, 1)</td>\n",
       "      <td>(2, 2)</td>\n",
       "      <td>0</td>\n",
       "    </tr>\n",
       "    <tr>\n",
       "      <th>4</th>\n",
       "      <td>-2.333056</td>\n",
       "      <td>(2, 4)</td>\n",
       "      <td>(2, 2)</td>\n",
       "      <td>(2, 1)</td>\n",
       "      <td>0</td>\n",
       "    </tr>\n",
       "    <tr>\n",
       "      <th>...</th>\n",
       "      <td>...</td>\n",
       "      <td>...</td>\n",
       "      <td>...</td>\n",
       "      <td>...</td>\n",
       "      <td>...</td>\n",
       "    </tr>\n",
       "    <tr>\n",
       "      <th>15</th>\n",
       "      <td>-1.649890</td>\n",
       "      <td>(3, 3)</td>\n",
       "      <td>(15, 14)</td>\n",
       "      <td>(15, 15)</td>\n",
       "      <td>9</td>\n",
       "    </tr>\n",
       "    <tr>\n",
       "      <th>16</th>\n",
       "      <td>-1.000000</td>\n",
       "      <td>(0, 1)</td>\n",
       "      <td>(15, 15)</td>\n",
       "      <td>(15, 15)</td>\n",
       "      <td>9</td>\n",
       "    </tr>\n",
       "    <tr>\n",
       "      <th>17</th>\n",
       "      <td>-4.649581</td>\n",
       "      <td>(1, 1)</td>\n",
       "      <td>(15, 15)</td>\n",
       "      <td>(16, 15)</td>\n",
       "      <td>9</td>\n",
       "    </tr>\n",
       "    <tr>\n",
       "      <th>18</th>\n",
       "      <td>-3.441384</td>\n",
       "      <td>(1, 4)</td>\n",
       "      <td>(16, 15)</td>\n",
       "      <td>(16, 14)</td>\n",
       "      <td>9</td>\n",
       "    </tr>\n",
       "    <tr>\n",
       "      <th>19</th>\n",
       "      <td>-1.549860</td>\n",
       "      <td>(3, 3)</td>\n",
       "      <td>(16, 14)</td>\n",
       "      <td>(16, 15)</td>\n",
       "      <td>9</td>\n",
       "    </tr>\n",
       "  </tbody>\n",
       "</table>\n",
       "<p>480 rows × 5 columns</p>\n",
       "</div>"
      ],
      "text/plain": [
       "         r_t     a_t       s_t   s_t_p_1  id_simulation\n",
       "0  -1.619943  (3, 3)    (1, 1)    (1, 2)              0\n",
       "1  -2.694863  (2, 4)    (1, 2)    (1, 1)              0\n",
       "2  -4.666112  (1, 1)    (1, 1)    (2, 1)              0\n",
       "3  -6.985433  (1, 3)    (2, 1)    (2, 2)              0\n",
       "4  -2.333056  (2, 4)    (2, 2)    (2, 1)              0\n",
       "..       ...     ...       ...       ...            ...\n",
       "15 -1.649890  (3, 3)  (15, 14)  (15, 15)              9\n",
       "16 -1.000000  (0, 1)  (15, 15)  (15, 15)              9\n",
       "17 -4.649581  (1, 1)  (15, 15)  (16, 15)              9\n",
       "18 -3.441384  (1, 4)  (16, 15)  (16, 14)              9\n",
       "19 -1.549860  (3, 3)  (16, 14)  (16, 15)              9\n",
       "\n",
       "[480 rows x 5 columns]"
      ]
     },
     "execution_count": 11,
     "metadata": {},
     "output_type": "execute_result"
    }
   ],
   "source": [
    "R = R.rename(columns={'recompense': 'r_t', 'actions': 'a_t',\"Indice_simul\":\"id_simulation\",\"etat_t\":\"s_t\",\"etat_suivant\":\"s_t_p_1\"})\n",
    "R"
   ]
  },
  {
   "cell_type": "markdown",
   "metadata": {},
   "source": [
    "Enregistrement des simulations. "
   ]
  },
  {
   "cell_type": "code",
   "execution_count": 12,
   "metadata": {},
   "outputs": [
    {
     "data": {
      "text/plain": [
       "r_t              float64\n",
       "a_t               object\n",
       "s_t               object\n",
       "s_t_p_1           object\n",
       "id_simulation      int64\n",
       "dtype: object"
      ]
     },
     "execution_count": 12,
     "metadata": {},
     "output_type": "execute_result"
    }
   ],
   "source": [
    "R.dtypes"
   ]
  },
  {
   "cell_type": "code",
   "execution_count": 6,
   "metadata": {},
   "outputs": [],
   "source": [
    "R.to_csv('Resultats.csv', index=False)"
   ]
  }
 ],
 "metadata": {
  "kernelspec": {
   "display_name": "Python 3",
   "language": "python",
   "name": "python3"
  },
  "language_info": {
   "codemirror_mode": {
    "name": "ipython",
    "version": 3
   },
   "file_extension": ".py",
   "mimetype": "text/x-python",
   "name": "python",
   "nbconvert_exporter": "python",
   "pygments_lexer": "ipython3",
   "version": "3.9.13"
  }
 },
 "nbformat": 4,
 "nbformat_minor": 2
}
